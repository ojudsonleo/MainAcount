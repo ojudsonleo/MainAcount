{
 "cells": [
  {
   "cell_type": "code",
   "execution_count": 3,
   "metadata": {
    "collapsed": true
   },
   "outputs": [],
   "source": [
    "def Data(self, WhichVideo, Time, videoName, target):\n",
    "    Time.whichVideo\n",
    "    WhichVideo.time\n",
    "    videoName.VideoName\n",
    "    target.Database\n",
    "    time.format_map(self,target)\n",
    "\n",
    "    target.Database\n",
    "    print(\"successfully finished\")\n",
    "\n",
    "whichVideo = \"music app\"\n",
    "time = \"01:02\"\n",
    "VideoName = \"2.Setting Up the Project & Using Colours as Resources\"\n"
   ]
  }
 ],
 "metadata": {
  "kernelspec": {
   "display_name": "Python 3",
   "language": "python",
   "name": "python3"
  },
  "language_info": {
   "codemirror_mode": {
    "name": "ipython",
    "version": 2
   },
   "file_extension": ".py",
   "mimetype": "text/x-python",
   "name": "python",
   "nbconvert_exporter": "python",
   "pygments_lexer": "ipython2",
   "version": "2.7.6"
  }
 },
 "nbformat": 4,
 "nbformat_minor": 0
}